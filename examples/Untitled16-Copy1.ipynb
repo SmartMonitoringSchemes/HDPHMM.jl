{
 "cells": [
  {
   "cell_type": "code",
   "execution_count": 65,
   "metadata": {},
   "outputs": [],
   "source": [
    "using CSV\n",
    "using Dates\n",
    "using Distributions\n",
    "using Glob\n",
    "using Leaf\n",
    "using PyPlot\n",
    "using StatsBase\n",
    "import ConjugatePriors: NormalInverseChisq"
   ]
  },
  {
   "cell_type": "code",
   "execution_count": 66,
   "metadata": {},
   "outputs": [],
   "source": [
    "function publication_style(fontsize = 12)\n",
    "    rc(\"axes\", grid = true, titlesize = fontsize, xmargin = 0, ymargin = 0)\n",
    "    rc(\"axes.grid\", which = \"both\")\n",
    "    rc(\"date.autoformatter\", hour = \"%d %b %I%p\")\n",
    "    rc(\"figure\", figsize = (14, 2.0))\n",
    "    rc(\"font\", size = fontsize)\n",
    "    rc(\"grid\", alpha = 0.5, linestyle = \"--\")\n",
    "    rc(\"legend\", frameon = false)\n",
    "    rc(\"lines\", linewidth = 1.0)\n",
    "end\n",
    "publication_style(8)"
   ]
  },
  {
   "cell_type": "code",
   "execution_count": 100,
   "metadata": {},
   "outputs": [
    {
     "data": {
      "text/plain": [
       "plotrtt (generic function with 2 methods)"
      ]
     },
     "execution_count": 100,
     "metadata": {},
     "output_type": "execute_result"
    }
   ],
   "source": [
    "function getstats(observations)\n",
    "    observations = skipmissing(observations)\n",
    "\n",
    "    obs_med = median(observations)\n",
    "    obs_mad = mad(observations, normalize = true)\n",
    "    # > If normalize is set to true, the MAD is multiplied by 1 / quantile(Normal(), 3/4) ≈ 1.4826,\n",
    "    # > in order to obtain a consistent estimator of the standard deviation under the assumption that the data is normally distributed.\n",
    "    obs_var = obs_mad^2\n",
    "\n",
    "    obs_med, obs_var\n",
    "end\n",
    "\n",
    "function getprior(observations)\n",
    "    obs_med, obs_var = getstats(observations)\n",
    "\n",
    "    tp = TransitionDistributionPrior(\n",
    "        Gamma(1, 1/0.01),\n",
    "        Gamma(1, 1/0.01),\n",
    "        Beta(500, 1)\n",
    "    )\n",
    "\n",
    "    op = DPMMObservationModelPrior{Normal}(\n",
    "        NormalInverseChisq(obs_med, obs_var, 1, 10),\n",
    "        Gamma(1, 0.5)\n",
    "    )\n",
    "\n",
    "    prior = BlockedSamplerPrior(1.0, tp, op)\n",
    "end\n",
    "\n",
    "function getsegments(seq)\n",
    "    idxs = findall(seq[2:end] .!= seq[1:end-1])\n",
    "    idxs = vcat([0], idxs, [length(seq)])\n",
    "    collect(zip(idxs[1:end-1] .+ 1, idxs[2:end]))\n",
    "end\n",
    "\n",
    "# Returns the length of the contiguous segments in `seq`\n",
    "function getdurations(seq)\n",
    "    idxs = findall(seq[2:end] .!= seq[1:end-1])\n",
    "    idxs = vcat([0], idxs, [length(seq)])\n",
    "    idxs[2:end] .- idxs[1:end-1]\n",
    "end\n",
    "\n",
    "function plotrtt(ts, seq = nothing; ax = gca())\n",
    "#     dates = unix2datetime.(ts.timestamp)\n",
    "    dates = ts.timestamp\n",
    "    ax.plot(dates, coalesce.(ts.min, NaN))\n",
    "    if seq !== nothing\n",
    "        cmap = Dict([i => plt.cm.tab20(i) for i in sort(unique(seq))])\n",
    "        segments = getsegments(seq)\n",
    "        for segment in segments\n",
    "            state = seq[segment[1]]\n",
    "            start, stop = dates[collect(segment)]\n",
    "            ax.axvspan(start, stop, alpha = 0.3, color = cmap[state])\n",
    "        end\n",
    "    end\n",
    "end"
   ]
  },
  {
   "cell_type": "code",
   "execution_count": 105,
   "metadata": {},
   "outputs": [
    {
     "name": "stdout",
     "output_type": "stream",
     "text": [
      "file = \"/home/maxmouchet/Clones/Leaf.jl/examples/real_trace_labelled/11320.csv\"\n",
      "file = \"/home/maxmouchet/Clones/Leaf.jl/examples/real_trace_labelled/11323.csv\"\n",
      "file = \"/home/maxmouchet/Clones/Leaf.jl/examples/real_trace_labelled/11325.csv\"\n",
      "file = \"/home/maxmouchet/Clones/Leaf.jl/examples/real_trace_labelled/11815.csv\"\n",
      "file = \"/home/maxmouchet/Clones/Leaf.jl/examples/real_trace_labelled/11819.csv\"\n",
      "file = \"/home/maxmouchet/Clones/Leaf.jl/examples/real_trace_labelled/11824.csv\"\n",
      "file = \"/home/maxmouchet/Clones/Leaf.jl/examples/real_trace_labelled/11833.csv\"\n",
      "file = \"/home/maxmouchet/Clones/Leaf.jl/examples/real_trace_labelled/12120.csv\"\n",
      "file = \"/home/maxmouchet/Clones/Leaf.jl/examples/real_trace_labelled/12125.csv\"\n",
      "file = \"/home/maxmouchet/Clones/Leaf.jl/examples/real_trace_labelled/12698.csv\"\n",
      "file = \"/home/maxmouchet/Clones/Leaf.jl/examples/real_trace_labelled/12707.csv\"\n"
     ]
    },
    {
     "ename": "ErrorException",
     "evalue": "Failed to initialize transition matrix (NaN values), please check your priors.",
     "output_type": "error",
     "traceback": [
      "Failed to initialize transition matrix (NaN values), please check your priors.",
      "",
      "Stacktrace:",
      " [1] #TransitionMatrix#12(::Int64, ::typeof(Leaf.TransitionMatrix), ::Dirichlet{Float64}) at /home/maxmouchet/Clones/Leaf.jl/src/sampler/transdist.jl:51",
      " [2] TransitionMatrix(::Dirichlet{Float64}) at /home/maxmouchet/Clones/Leaf.jl/src/sampler/transdist.jl:45",
      " [3] TransitionDistribution(::Int64, ::TransitionDistributionPrior) at /home/maxmouchet/Clones/Leaf.jl/src/sampler/transdist.jl:25",
      " [4] BlockedSamplerState(::BlockedSampler, ::BlockedSamplerPrior) at /home/maxmouchet/Clones/Leaf.jl/src/sampler/sampler.jl:24",
      " [5] #sample#28(::MCConfig, ::typeof(sample), ::BlockedSampler, ::BlockedSamplerPrior, ::Array{Float64,1}) at /home/maxmouchet/Clones/Leaf.jl/src/api/sample.jl:22",
      " [6] (::StatsBase.var\"#kw##sample\")(::NamedTuple{(:config,),Tuple{MCConfig}}, ::typeof(sample), ::BlockedSampler, ::BlockedSamplerPrior, ::Array{Float64,1}) at ./none:0",
      " [7] top-level scope at ./In[105]:23"
     ]
    }
   ],
   "source": [
    "files = glob(\"*.csv\", joinpath(@__DIR__, \"real_trace_labelled\"))\n",
    "\n",
    "config = MCConfig(init = KMeansInit(10), iter = 250, verb = false)\n",
    "sampler = BlockedSampler(10, 5)\n",
    "\n",
    "for file in files[20:end]\n",
    "    @show file\n",
    "    df = CSV.read(file, dateformat=\"dd/mm/yyyy HH:MM\", delim=';', missingstrings=[\"-3\", \"-4\"])\n",
    "\n",
    "    df.min = df.rtt\n",
    "    df.timestamp = collect(1:length(df.rtt))\n",
    "\n",
    "    # TODO !\n",
    "    rtt = coalesce.(df.rtt, mean(skipmissing(df.rtt)))\n",
    "    \n",
    "    prior = nothing\n",
    "    try\n",
    "        prior = getprior(rtt)\n",
    "    catch\n",
    "        prior = getprior(rtt)\n",
    "    end\n",
    "    \n",
    "    chains = sample(sampler, prior, rtt, config = config)\n",
    "    _, z, s, states = Leaf.select_hamming(chains[1])\n",
    "\n",
    "    figure()\n",
    "    plotrtt(df, z)\n",
    "    for idx in findall(df.cp .== 1)\n",
    "        plt.axvline(idx, color = \"red\")\n",
    "    end\n",
    "    plt.savefig(\"$file.png\", bbox_inches = \"tight\", dpi = 300)\n",
    "end"
   ]
  },
  {
   "cell_type": "code",
   "execution_count": 92,
   "metadata": {},
   "outputs": [],
   "source": []
  },
  {
   "cell_type": "code",
   "execution_count": null,
   "metadata": {},
   "outputs": [],
   "source": []
  },
  {
   "cell_type": "code",
   "execution_count": 57,
   "metadata": {},
   "outputs": [
    {
     "data": {
      "text/plain": [
       "\"/home/maxmouchet/Clones/Leaf.jl/examples/real_trace_labelled/11185.csv\""
      ]
     },
     "execution_count": 57,
     "metadata": {},
     "output_type": "execute_result"
    }
   ],
   "source": [
    "file"
   ]
  },
  {
   "cell_type": "code",
   "execution_count": null,
   "metadata": {},
   "outputs": [],
   "source": []
  },
  {
   "cell_type": "code",
   "execution_count": 8,
   "metadata": {},
   "outputs": [],
   "source": [
    "_, z, s, states = Leaf.select_hamming(chains[1]);"
   ]
  },
  {
   "cell_type": "code",
   "execution_count": 9,
   "metadata": {},
   "outputs": [
    {
     "data": {
      "image/png": "[encoded data removed]",
      "text/plain": [
       "Figure(PyObject <Figure size 1600x400 with 2 Axes>)"
      ]
     },
     "metadata": {},
     "output_type": "display_data"
    },
    {
     "data": {
      "text/plain": [
       "1-element Array{PyCall.PyObject,1}:\n",
       " PyObject <matplotlib.lines.Line2D object at 0x7f2768825790>"
      ]
     },
     "execution_count": 9,
     "metadata": {},
     "output_type": "execute_result"
    }
   ],
   "source": [
    "figure(figsize=(16,4))\n",
    "plot(z)\n",
    "twinx().plot(y, color=\"red\")"
   ]
  },
  {
   "cell_type": "code",
   "execution_count": 10,
   "metadata": {},
   "outputs": [
    {
     "data": {
      "text/plain": [
       "4-element Array{Int64,1}:\n",
       " 1\n",
       " 7\n",
       " 3\n",
       " 2"
      ]
     },
     "execution_count": 10,
     "metadata": {},
     "output_type": "execute_result"
    }
   ],
   "source": [
    "unique(z)"
   ]
  },
  {
   "cell_type": "code",
   "execution_count": null,
   "metadata": {},
   "outputs": [],
   "source": []
  },
  {
   "cell_type": "code",
   "execution_count": 121,
   "metadata": {},
   "outputs": [
    {
     "data": {
      "text/plain": [
       "100×10 Array{Float64,2}:\n",
       " 0.528069    0.0672795  0.815586   …  0.790619   0.143109   0.0614073\n",
       " 0.353871    0.415335   0.496083      0.197914   0.304743   0.370279 \n",
       " 0.316324    0.415719   0.41337       0.303298   0.912151   0.025333 \n",
       " 0.791046    0.458829   0.327424      0.425227   0.129112   0.113641 \n",
       " 0.305949    0.942165   0.274712      0.195901   0.441266   0.499544 \n",
       " 0.680242    0.356047   0.504075   …  0.319698   0.999136   0.719858 \n",
       " 0.00530497  0.447328   0.026714      0.493178   0.769462   0.533716 \n",
       " 0.153614    0.353957   0.157108      0.6329     0.0284726  0.288399 \n",
       " 0.583335    0.684251   0.220794      0.724997   0.75325    0.367349 \n",
       " 0.447171    0.812222   0.206601      0.0482558  0.570264   0.398818 \n",
       " 0.446368    0.276517   0.327359   …  0.82474    0.632551   0.972317 \n",
       " 0.617448    0.608896   0.76616       0.15425    0.978892   0.486286 \n",
       " 0.301358    0.636288   0.207844      0.47582    0.516606   0.939238 \n",
       " ⋮                                 ⋱                                 \n",
       " 0.658359    0.679175   0.800962      0.33281    0.0255129  0.321099 \n",
       " 0.599438    0.838121   0.0774186     0.748848   0.0747916  0.19948  \n",
       " 0.607788    0.449507   0.742438   …  0.123463   0.807374   0.605764 \n",
       " 0.58032     0.924738   0.883645      0.707471   0.620808   0.719078 \n",
       " 0.00405831  0.175921   0.641296      0.117575   0.0534754  0.388665 \n",
       " 0.165224    0.484034   0.506313      0.365412   0.921576   0.460339 \n",
       " 0.929317    0.786644   0.0951967     0.816181   0.931239   0.524389 \n",
       " 0.430995    0.712989   0.449732   …  0.114466   0.203354   0.865754 \n",
       " 0.243673    0.937776   0.655037      0.6974     0.503479   0.695718 \n",
       " 0.716206    0.738002   0.0461081     0.554169   0.45535    0.868687 \n",
       " 0.57914     0.795726   0.629428      0.984669   0.92972    0.0303349\n",
       " 0.434208    0.232427   0.78199       0.884005   0.869634   0.0761182"
      ]
     },
     "execution_count": 121,
     "metadata": {},
     "output_type": "execute_result"
    }
   ],
   "source": [
    "A = rand(100,10)"
   ]
  },
  {
   "cell_type": "code",
   "execution_count": 120,
   "metadata": {},
   "outputs": [
    {
     "data": {
      "text/plain": [
       "CartesianIndex(30, 1)"
      ]
     },
     "execution_count": 120,
     "metadata": {},
     "output_type": "execute_result"
    }
   ],
   "source": [
    "argmin(mean(A, dims=2))"
   ]
  },
  {
   "cell_type": "code",
   "execution_count": null,
   "metadata": {},
   "outputs": [],
   "source": []
  },
  {
   "cell_type": "code",
   "execution_count": null,
   "metadata": {},
   "outputs": [],
   "source": []
  }
 ],
 "metadata": {
  "kernelspec": {
   "display_name": "Julia 1.3.0 (parallel)",
   "language": "julia",
   "name": "julia-1.3-parallel"
  },
  "language_info": {
   "file_extension": ".jl",
   "mimetype": "application/julia",
   "name": "julia",
   "version": "1.3.0"
  }
 },
 "nbformat": 4,
 "nbformat_minor": 4
}
